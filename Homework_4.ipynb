{
 "cells": [
  {
   "cell_type": "markdown",
   "metadata": {},
   "source": [
    "## Classification with Python\n",
    "\n",
    "Hopefully now you are feeling a bit more comfortable with Python, Kaggle, and modeling. \n",
    "\n",
    "The next kaggle project:\n",
    "\n",
    "https://www.kaggle.com/c/costa-rican-household-poverty-prediction\n",
    "\n",
    "### Grading\n",
    "\n",
    "This homework is due **Nov. 06, 2018 by 4:00pn Utah time.** By that time, you need to have committed all your code to your github and submitted a link to your work to the TA. We can see on your Github account when you last committed code. :)\n",
    "\n",
    "Rubric:\n",
    "\n",
    "* Code Quality - 10%\n",
    "* Storytelling - 10%\n",
    "* Result on Kaggle - 5%\n",
    "* Describing, Cleaning, and Visualizing data - 25%\n",
    "* Modeling - 50%\n",
    "\n",
    "More specifically, for modeling we will look for: \n",
    "\n",
    "* Model Selection: Did you try multiple models? Why did you choose these models? How do they work? What are they assumptions? And how did you test/account for them? How did you select hyper-parameters?\n",
    "* Model evaluation: Did you evaluate your model on multiple metrics? Where does your model do well? Where could it be improved? How are the metrics different?\n",
    "* Model interpretation: What do the model results tell you? Which variables are important? High bias or variance and how did you / could you fix this? How confident are you in your results? \n",
    "* Model usefulness: Do you think your final model was useful? If so, how would you recommend using it? Convince us, that if we were a company, we would feel comfortable using your model with our users. Think about edge cases as well - are there certain areas that the model performs poorly on? Best on? How would you handle these cases, if say Zillow wanted to leverage your model realizing that bad recommendations on sale prices would hurt customer trust and your brand. This section also falls into the storytelling aspect of the grading."
   ]
  },
  {
   "cell_type": "code",
   "execution_count": 53,
   "metadata": {},
   "outputs": [],
   "source": [
    "# normal imports\n",
    "import numpy as np\n",
    "import pandas as pd\n",
    "import seaborn as sns\n",
    "import matplotlib.pyplot as plt\n",
    "import random\n",
    "# cleaning imports\n",
    "from scipy.stats import skew\n",
    "from sklearn.preprocessing import StandardScaler, RobustScaler\n",
    "# model imports\n",
    "from sklearn.ensemble import RandomForestClassifier, AdaBoostClassifier\n",
    "from sklearn.kernel_ridge import KernelRidge\n",
    "from sklearn.pipeline import make_pipeline\n",
    "from sklearn.base import BaseEstimator, TransformerMixin, RegressorMixin, clone\n",
    "from sklearn.linear_model import Ridge, RidgeCV, ElasticNet, LassoCV, LassoLarsCV, ElasticNet, Lasso,  BayesianRidge, SGDRegressor, LassoLars\n",
    "import xgboost\n",
    "from sklearn.isotonic import IsotonicRegression\n",
    "from sklearn.neural_network import MLPRegressor\n",
    "from sklearn.svm import SVR\n",
    "#import lightgbm\n",
    "# validation imports\n",
    "from sklearn.metrics import mean_squared_error, classification_report, roc_auc_score\n",
    "from sklearn.model_selection import KFold, cross_val_score, train_test_split, GridSearchCV"
   ]
  },
  {
   "cell_type": "markdown",
   "metadata": {},
   "source": [
    "# Get the data all spic and span ready"
   ]
  },
  {
   "cell_type": "code",
   "execution_count": 31,
   "metadata": {},
   "outputs": [],
   "source": [
    "train = pd.read_csv(\"train.csv\")\n",
    "test = pd.read_csv(\"test.csv\")\n"
   ]
  },
  {
   "cell_type": "code",
   "execution_count": 32,
   "metadata": {},
   "outputs": [],
   "source": [
    "# wanna keep that ID\n",
    "train_ID = train['Id']\n",
    "test_ID = test['Id']\n",
    "#train = train_.drop('Id', 1).copy()\n",
    "#test = test.drop('Id', 1).copy()\n",
    "y = train['Target']"
   ]
  },
  {
   "cell_type": "code",
   "execution_count": 33,
   "metadata": {},
   "outputs": [
    {
     "data": {
      "text/plain": [
       "count    9557.000000\n",
       "mean        3.302292\n",
       "std         1.009565\n",
       "min         1.000000\n",
       "25%         3.000000\n",
       "50%         4.000000\n",
       "75%         4.000000\n",
       "max         4.000000\n",
       "Name: Target, dtype: float64"
      ]
     },
     "execution_count": 33,
     "metadata": {},
     "output_type": "execute_result"
    }
   ],
   "source": [
    "# let's gander at the data\n",
    "y.describe()"
   ]
  },
  {
   "cell_type": "code",
   "execution_count": 34,
   "metadata": {},
   "outputs": [
    {
     "data": {
      "text/plain": [
       "4    0.627394\n",
       "2    0.167103\n",
       "3    0.126504\n",
       "1    0.079000\n",
       "Name: Target, dtype: float64"
      ]
     },
     "execution_count": 34,
     "metadata": {},
     "output_type": "execute_result"
    }
   ],
   "source": [
    "# It seems 4 is an overwhelming majority but let's see how much\n",
    "y.value_counts(normalize=True)"
   ]
  },
  {
   "cell_type": "code",
   "execution_count": 35,
   "metadata": {
    "scrolled": true
   },
   "outputs": [
    {
     "data": {
      "text/plain": [
       "(array([   0.,  755., 1597., 1209., 5996.,    0.]),\n",
       " array([0, 1, 2, 3, 4, 5, 6]),\n",
       " <a list of 6 Patch objects>)"
      ]
     },
     "execution_count": 35,
     "metadata": {},
     "output_type": "execute_result"
    },
    {
     "data": {
      "image/png": "[encoded data removed]",
      "text/plain": [
       "<Figure size 432x288 with 1 Axes>"
      ]
     },
     "metadata": {
      "needs_background": "light"
     },
     "output_type": "display_data"
    }
   ],
   "source": [
    "# let's look at the disparity\n",
    "plt.hist(y, bins=[0,1,2,3,4,5,6])"
   ]
  },
  {
   "cell_type": "code",
   "execution_count": 36,
   "metadata": {},
   "outputs": [],
   "source": [
    "# lets see what's super correlated\n",
    "abs(train.corr()['Target']).sort_values(ascending=False)\n",
    "train = train.drop('Target', 1).copy()\n",
    "# notice I used absolute value because negative correlation matters jsut as much as positive"
   ]
  },
  {
   "cell_type": "code",
   "execution_count": 37,
   "metadata": {},
   "outputs": [],
   "source": [
    "# put both test and training data together\n",
    "all_ = pd.concat((train, test), sort=True)\n",
    "#all_ = all_.drop('Id', 1).copy()"
   ]
  },
  {
   "cell_type": "code",
   "execution_count": 38,
   "metadata": {},
   "outputs": [
    {
     "data": {
      "text/plain": [
       "77384"
      ]
     },
     "execution_count": 38,
     "metadata": {},
     "output_type": "execute_result"
    }
   ],
   "source": [
    "# count the nans\n",
    "all_.isnull().sum().sum()"
   ]
  },
  {
   "cell_type": "code",
   "execution_count": 39,
   "metadata": {},
   "outputs": [
    {
     "data": {
      "text/plain": [
       "Id                     0\n",
       "SQBage                 0\n",
       "SQBdependency          0\n",
       "SQBedjefe              0\n",
       "SQBescolari            0\n",
       "SQBhogar_nin           0\n",
       "SQBhogar_total         0\n",
       "SQBmeaned             36\n",
       "SQBovercrowding        0\n",
       "abastaguadentro        0\n",
       "abastaguafuera         0\n",
       "abastaguano            0\n",
       "age                    0\n",
       "agesq                  0\n",
       "area1                  0\n",
       "area2                  0\n",
       "bedrooms               0\n",
       "cielorazo              0\n",
       "computer               0\n",
       "coopele                0\n",
       "dependency             0\n",
       "dis                    0\n",
       "edjefa                 0\n",
       "edjefe                 0\n",
       "elimbasu1              0\n",
       "elimbasu2              0\n",
       "elimbasu3              0\n",
       "elimbasu4              0\n",
       "elimbasu5              0\n",
       "elimbasu6              0\n",
       "                   ...  \n",
       "r4m1                   0\n",
       "r4m2                   0\n",
       "r4m3                   0\n",
       "r4t1                   0\n",
       "r4t2                   0\n",
       "r4t3                   0\n",
       "refrig                 0\n",
       "rez_esc            27581\n",
       "rooms                  0\n",
       "sanitario1             0\n",
       "sanitario2             0\n",
       "sanitario3             0\n",
       "sanitario5             0\n",
       "sanitario6             0\n",
       "tamhog                 0\n",
       "tamviv                 0\n",
       "techocane              0\n",
       "techoentrepiso         0\n",
       "techootro              0\n",
       "techozinc              0\n",
       "television             0\n",
       "tipovivi1              0\n",
       "tipovivi2              0\n",
       "tipovivi3              0\n",
       "tipovivi4              0\n",
       "tipovivi5              0\n",
       "v14a                   0\n",
       "v18q                   0\n",
       "v18q1              25468\n",
       "v2a1               24263\n",
       "Length: 142, dtype: int64"
      ]
     },
     "execution_count": 39,
     "metadata": {},
     "output_type": "execute_result"
    }
   ],
   "source": [
    "# see which columns have NaN\n",
    "all_.isnull().sum()"
   ]
  },
  {
   "cell_type": "code",
   "execution_count": 40,
   "metadata": {},
   "outputs": [
    {
     "name": "stdout",
     "output_type": "stream",
     "text": [
      "SQBmeaned\n",
      "meaneduc\n",
      "rez_esc\n",
      "v18q1\n",
      "v2a1\n"
     ]
    }
   ],
   "source": [
    "# lets jsut drop the ones with Nulls\n",
    "for i in all_:\n",
    "    if all_[i].isnull().sum() != 0:\n",
    "        print(i)\n",
    "        all_ = all_.drop(f\"{i}\", 1).copy()\n",
    "        #test = test.drop(f'{i}', 1).copy()"
   ]
  },
  {
   "cell_type": "code",
   "execution_count": 41,
   "metadata": {},
   "outputs": [
    {
     "data": {
      "text/plain": [
       "0"
      ]
     },
     "execution_count": 41,
     "metadata": {},
     "output_type": "execute_result"
    }
   ],
   "source": [
    "# see if we got em all\n",
    "all_.isnull().sum().sum()"
   ]
  },
  {
   "cell_type": "code",
   "execution_count": 43,
   "metadata": {},
   "outputs": [],
   "source": [
    "# would you look at that, nothing is crazy correlated so we can go ahead and save this as X\n",
    "all_ = pd.get_dummies(all_)\n",
    "#X = train.drop(['Target'], 1).copy()\n",
    "X_train = all_[:train.shape[0]]\n",
    "X_test = all_[train.shape[0]:]"
   ]
  },
  {
   "cell_type": "markdown",
   "metadata": {},
   "source": [
    "# Random Forest"
   ]
  },
  {
   "cell_type": "code",
   "execution_count": 44,
   "metadata": {},
   "outputs": [
    {
     "name": "stdout",
     "output_type": "stream",
     "text": [
      "Fitting 2 folds for each of 15 candidates, totalling 30 fits\n",
      "[CV] max_depth=2, n_estimators=100 ...................................\n"
     ]
    },
    {
     "name": "stderr",
     "output_type": "stream",
     "text": [
      "[Parallel(n_jobs=1)]: Using backend SequentialBackend with 1 concurrent workers.\n"
     ]
    },
    {
     "name": "stdout",
     "output_type": "stream",
     "text": [
      "[CV] .................... max_depth=2, n_estimators=100, total=  11.2s\n",
      "[CV] max_depth=2, n_estimators=100 ...................................\n"
     ]
    },
    {
     "name": "stderr",
     "output_type": "stream",
     "text": [
      "[Parallel(n_jobs=1)]: Done   1 out of   1 | elapsed:   13.3s remaining:    0.0s\n"
     ]
    },
    {
     "name": "stdout",
     "output_type": "stream",
     "text": [
      "[CV] .................... max_depth=2, n_estimators=100, total=   7.7s\n",
      "[CV] max_depth=2, n_estimators=200 ...................................\n",
      "[CV] .................... max_depth=2, n_estimators=200, total=   8.0s\n",
      "[CV] max_depth=2, n_estimators=200 ...................................\n",
      "[CV] .................... max_depth=2, n_estimators=200, total=   8.0s\n",
      "[CV] max_depth=2, n_estimators=300 ...................................\n",
      "[CV] .................... max_depth=2, n_estimators=300, total=   8.4s\n",
      "[CV] max_depth=2, n_estimators=300 ...................................\n",
      "[CV] .................... max_depth=2, n_estimators=300, total=   9.7s\n",
      "[CV] max_depth=2, n_estimators=400 ...................................\n",
      "[CV] .................... max_depth=2, n_estimators=400, total=   9.9s\n",
      "[CV] max_depth=2, n_estimators=400 ...................................\n",
      "[CV] .................... max_depth=2, n_estimators=400, total=   9.9s\n",
      "[CV] max_depth=2, n_estimators=500 ...................................\n",
      "[CV] .................... max_depth=2, n_estimators=500, total=  10.2s\n",
      "[CV] max_depth=2, n_estimators=500 ...................................\n",
      "[CV] .................... max_depth=2, n_estimators=500, total=  10.6s\n",
      "[CV] max_depth=3, n_estimators=100 ...................................\n",
      "[CV] .................... max_depth=3, n_estimators=100, total=   9.0s\n",
      "[CV] max_depth=3, n_estimators=100 ...................................\n",
      "[CV] .................... max_depth=3, n_estimators=100, total=   9.3s\n",
      "[CV] max_depth=3, n_estimators=200 ...................................\n",
      "[CV] .................... max_depth=3, n_estimators=200, total=   9.3s\n",
      "[CV] max_depth=3, n_estimators=200 ...................................\n",
      "[CV] .................... max_depth=3, n_estimators=200, total=   9.3s\n",
      "[CV] max_depth=3, n_estimators=300 ...................................\n",
      "[CV] .................... max_depth=3, n_estimators=300, total=  10.0s\n",
      "[CV] max_depth=3, n_estimators=300 ...................................\n",
      "[CV] .................... max_depth=3, n_estimators=300, total=  10.0s\n",
      "[CV] max_depth=3, n_estimators=400 ...................................\n",
      "[CV] .................... max_depth=3, n_estimators=400, total=  10.6s\n",
      "[CV] max_depth=3, n_estimators=400 ...................................\n",
      "[CV] .................... max_depth=3, n_estimators=400, total=  10.7s\n",
      "[CV] max_depth=3, n_estimators=500 ...................................\n",
      "[CV] .................... max_depth=3, n_estimators=500, total=  11.3s\n",
      "[CV] max_depth=3, n_estimators=500 ...................................\n",
      "[CV] .................... max_depth=3, n_estimators=500, total=  11.5s\n",
      "[CV] max_depth=4, n_estimators=100 ...................................\n",
      "[CV] .................... max_depth=4, n_estimators=100, total=   9.2s\n",
      "[CV] max_depth=4, n_estimators=100 ...................................\n",
      "[CV] .................... max_depth=4, n_estimators=100, total=   9.1s\n",
      "[CV] max_depth=4, n_estimators=200 ...................................\n",
      "[CV] .................... max_depth=4, n_estimators=200, total=   9.9s\n",
      "[CV] max_depth=4, n_estimators=200 ...................................\n",
      "[CV] .................... max_depth=4, n_estimators=200, total=  10.4s\n",
      "[CV] max_depth=4, n_estimators=300 ...................................\n",
      "[CV] .................... max_depth=4, n_estimators=300, total=  11.2s\n",
      "[CV] max_depth=4, n_estimators=300 ...................................\n",
      "[CV] .................... max_depth=4, n_estimators=300, total=  10.7s\n",
      "[CV] max_depth=4, n_estimators=400 ...................................\n",
      "[CV] .................... max_depth=4, n_estimators=400, total=  11.0s\n",
      "[CV] max_depth=4, n_estimators=400 ...................................\n",
      "[CV] .................... max_depth=4, n_estimators=400, total=  11.6s\n",
      "[CV] max_depth=4, n_estimators=500 ...................................\n",
      "[CV] .................... max_depth=4, n_estimators=500, total=  12.7s\n",
      "[CV] max_depth=4, n_estimators=500 ...................................\n",
      "[CV] .................... max_depth=4, n_estimators=500, total=  12.7s\n"
     ]
    },
    {
     "name": "stderr",
     "output_type": "stream",
     "text": [
      "[Parallel(n_jobs=1)]: Done  30 out of  30 | elapsed:  6.1min finished\n"
     ]
    },
    {
     "data": {
      "text/plain": [
       "GridSearchCV(cv=2, error_score='raise-deprecating',\n",
       "       estimator=RandomForestClassifier(bootstrap=True, class_weight='balanced',\n",
       "            criterion='gini', max_depth=None, max_features='auto',\n",
       "            max_leaf_nodes=None, min_impurity_decrease=0.0,\n",
       "            min_impurity_split=None, min_samples_leaf=1,\n",
       "            min_samples_split=2, min_weight_fraction_leaf=0.0,\n",
       "            n_estimators='warn', n_jobs=-1, oob_score=False,\n",
       "            random_state=None, verbose=0, warm_start=False),\n",
       "       fit_params=None, iid='warn', n_jobs=1,\n",
       "       param_grid={'n_estimators': [100, 200, 300, 400, 500], 'max_depth': [2, 3, 4]},\n",
       "       pre_dispatch='2*n_jobs', refit=True, return_train_score='warn',\n",
       "       scoring=None, verbose=2)"
      ]
     },
     "execution_count": 44,
     "metadata": {},
     "output_type": "execute_result"
    }
   ],
   "source": [
    "# lets do an initial random forest \n",
    "param_dictionary = {'n_estimators':[100,200,300,400,500], 'max_depth':[2,3,4]}\n",
    "RFC = RandomForestClassifier(n_jobs=-1, class_weight='balanced')#, max_depth=3)\n",
    "gs1 = GridSearchCV(RFC, param_dictionary, n_jobs=1, verbose=2, cv=2)\n",
    "gs1.fit(X_train,y)"
   ]
  },
  {
   "cell_type": "code",
   "execution_count": 45,
   "metadata": {},
   "outputs": [
    {
     "data": {
      "text/plain": [
       "{'max_depth': 3, 'n_estimators': 300}"
      ]
     },
     "execution_count": 45,
     "metadata": {},
     "output_type": "execute_result"
    }
   ],
   "source": [
    "gs1.best_params_"
   ]
  },
  {
   "cell_type": "code",
   "execution_count": 46,
   "metadata": {},
   "outputs": [
    {
     "name": "stdout",
     "output_type": "stream",
     "text": [
      "Fitting 2 folds for each of 10 candidates, totalling 20 fits\n"
     ]
    },
    {
     "name": "stderr",
     "output_type": "stream",
     "text": [
      "[Parallel(n_jobs=2)]: Using backend LokyBackend with 2 concurrent workers.\n",
      "[Parallel(n_jobs=2)]: Done  20 out of  20 | elapsed:  1.8min finished\n"
     ]
    },
    {
     "data": {
      "text/plain": [
       "GridSearchCV(cv=2, error_score='raise-deprecating',\n",
       "       estimator=RandomForestClassifier(bootstrap=True, class_weight='balanced',\n",
       "            criterion='gini', max_depth=None, max_features='auto',\n",
       "            max_leaf_nodes=None, min_impurity_decrease=0.0,\n",
       "            min_impurity_split=None, min_samples_leaf=1,\n",
       "            min_samples_split=2, min_weight_fraction_leaf=0.0,\n",
       "            n_estimators='warn', n_jobs=-1, oob_score=False,\n",
       "            random_state=None, verbose=0, warm_start=False),\n",
       "       fit_params=None, iid='warn', n_jobs=2,\n",
       "       param_grid={'n_estimators': [100, 200, 300, 400, 500], 'max_depth': [2, 3]},\n",
       "       pre_dispatch='2*n_jobs', refit=True, return_train_score='warn',\n",
       "       scoring='accuracy', verbose=2)"
      ]
     },
     "execution_count": 46,
     "metadata": {},
     "output_type": "execute_result"
    }
   ],
   "source": [
    "# lets do another grisdsearch using different scoring random forest \n",
    "param_dictionary = {'n_estimators':[100,200,300,400,500], 'max_depth':[2,3]}\n",
    "RFC = RandomForestClassifier(n_jobs=-1, class_weight='balanced')#, max_depth=3)\n",
    "gs2 = GridSearchCV(RFC, param_dictionary, n_jobs=2, verbose=2, cv=2, scoring='accuracy')\n",
    "gs2.fit(X_train,y)"
   ]
  },
  {
   "cell_type": "code",
   "execution_count": 47,
   "metadata": {},
   "outputs": [
    {
     "data": {
      "text/plain": [
       "{'max_depth': 2, 'n_estimators': 400}"
      ]
     },
     "execution_count": 47,
     "metadata": {},
     "output_type": "execute_result"
    }
   ],
   "source": [
    "gs2.best_params_"
   ]
  },
  {
   "cell_type": "code",
   "execution_count": 50,
   "metadata": {},
   "outputs": [
    {
     "data": {
      "text/plain": [
       "RandomForestClassifier(bootstrap=True, class_weight='balanced',\n",
       "            criterion='gini', max_depth=3, max_features='auto',\n",
       "            max_leaf_nodes=None, min_impurity_decrease=0.0,\n",
       "            min_impurity_split=None, min_samples_leaf=1,\n",
       "            min_samples_split=2, min_weight_fraction_leaf=0.0,\n",
       "            n_estimators=300, n_jobs=-1, oob_score=False,\n",
       "            random_state=None, verbose=0, warm_start=False)"
      ]
     },
     "execution_count": 50,
     "metadata": {},
     "output_type": "execute_result"
    }
   ],
   "source": [
    "# this seems to be a general consensus as our best bet\n",
    "poverty_submission1_model = RandomForestClassifier(n_jobs=-1, class_weight='balanced', max_depth=3, n_estimators=300)\n",
    "poverty_submission1_model.fit(X_train,y)"
   ]
  },
  {
   "cell_type": "code",
   "execution_count": 66,
   "metadata": {},
   "outputs": [
    {
     "name": "stdout",
     "output_type": "stream",
     "text": [
      "0.6385895155383489\n"
     ]
    }
   ],
   "source": [
    "test = poverty_submission1_model.predict(X_train)\n",
    "print((test == y).sum()/len(y))"
   ]
  },
  {
   "cell_type": "code",
   "execution_count": 68,
   "metadata": {},
   "outputs": [
    {
     "data": {
      "text/plain": [
       "3.1547556764675106"
      ]
     },
     "execution_count": 68,
     "metadata": {},
     "output_type": "execute_result"
    }
   ],
   "source": [
    "sum(test)/len(test)"
   ]
  },
  {
   "cell_type": "code",
   "execution_count": 69,
   "metadata": {
    "scrolled": true
   },
   "outputs": [
    {
     "name": "stdout",
     "output_type": "stream",
     "text": [
      "              precision    recall  f1-score   support\n",
      "\n",
      "           1       0.72      0.31      0.43      1731\n",
      "           2       0.31      0.48      0.38      1037\n",
      "           3       0.25      0.38      0.30       811\n",
      "           4       0.79      0.80      0.80      5978\n",
      "\n",
      "   micro avg       0.64      0.64      0.64      9557\n",
      "   macro avg       0.52      0.49      0.48      9557\n",
      "weighted avg       0.68      0.64      0.64      9557\n",
      "\n"
     ]
    }
   ],
   "source": [
    "score_that = classification_report(test, y)\n",
    "print(score_that)"
   ]
  },
  {
   "cell_type": "code",
   "execution_count": 52,
   "metadata": {},
   "outputs": [],
   "source": [
    "# get them predictions\n",
    "poverty_submission1_model_predicitons = poverty_submission1_model.predict(X_test)\n",
    "poverty_submission1 = pd.DataFrame()\n",
    "poverty_submission1['Id'] = test_ID\n",
    "poverty_submission1['Target'] = poverty_submission1_model_predicitons\n",
    "poverty_submission1.to_csv('poverty_submission1.csv',index=False)"
   ]
  },
  {
   "cell_type": "code",
   "execution_count": 75,
   "metadata": {},
   "outputs": [
    {
     "data": {
      "text/plain": [
       "(array([1731.,    0.,    0., 1037.,    0.,    0.,  811.,    0.,    0.,\n",
       "        5978.]),\n",
       " array([1. , 1.3, 1.6, 1.9, 2.2, 2.5, 2.8, 3.1, 3.4, 3.7, 4. ]),\n",
       " <a list of 10 Patch objects>)"
      ]
     },
     "execution_count": 75,
     "metadata": {},
     "output_type": "execute_result"
    },
    {
     "data": {
      "image/png": "[encoded data removed]",
      "text/plain": [
       "<Figure size 432x288 with 1 Axes>"
      ]
     },
     "metadata": {
      "needs_background": "light"
     },
     "output_type": "display_data"
    }
   ],
   "source": [
    "plt.hist(test)"
   ]
  },
  {
   "cell_type": "markdown",
   "metadata": {},
   "source": [
    "# Time for AdaBoost"
   ]
  },
  {
   "cell_type": "code",
   "execution_count": 59,
   "metadata": {},
   "outputs": [],
   "source": [
    "def scoring(data1,data2):\n",
    "    if len(data1) != len(data2):\n",
    "        raise ValueError(\"Not the same length man\")\n",
    "    print(\"Percent Correct: \", (data1 == data2).sum()/len(data1) )"
   ]
  },
  {
   "cell_type": "code",
   "execution_count": 57,
   "metadata": {},
   "outputs": [
    {
     "data": {
      "text/plain": [
       "AdaBoostClassifier(algorithm='SAMME.R', base_estimator=None,\n",
       "          learning_rate=1.0, n_estimators=50, random_state=3)"
      ]
     },
     "execution_count": 57,
     "metadata": {},
     "output_type": "execute_result"
    }
   ],
   "source": [
    "ADA = AdaBoostClassifier(random_state=3)\n",
    "ADA.fit(X_train,y)"
   ]
  },
  {
   "cell_type": "code",
   "execution_count": 58,
   "metadata": {},
   "outputs": [],
   "source": [
    "# get them predictions\n",
    "poverty_submission2_model_predicitons = ADA.predict(X_test)\n",
    "poverty_submission2 = pd.DataFrame()\n",
    "poverty_submission2['Id'] = test_ID\n",
    "poverty_submission2['Target'] = poverty_submission2_model_predicitons\n",
    "poverty_submission2.to_csv('poverty_submission2.csv',index=False)"
   ]
  },
  {
   "cell_type": "code",
   "execution_count": 70,
   "metadata": {},
   "outputs": [
    {
     "name": "stdout",
     "output_type": "stream",
     "text": [
      "              precision    recall  f1-score   support\n",
      "\n",
      "           1       0.31      0.50      0.39       475\n",
      "           2       0.37      0.41      0.39      1443\n",
      "           3       0.01      0.34      0.03        53\n",
      "           4       0.92      0.73      0.82      7586\n",
      "\n",
      "   micro avg       0.67      0.67      0.67      9557\n",
      "   macro avg       0.41      0.49      0.40      9557\n",
      "weighted avg       0.81      0.67      0.73      9557\n",
      "\n"
     ]
    }
   ],
   "source": [
    "preds = ADA.predict(X_train)\n",
    "score_it = classification_report(preds, y)\n",
    "print(score_it)"
   ]
  },
  {
   "cell_type": "code",
   "execution_count": 74,
   "metadata": {},
   "outputs": [
    {
     "data": {
      "text/plain": [
       "(array([ 475.,    0.,    0., 1443.,    0.,    0.,   53.,    0.,    0.,\n",
       "        7586.]),\n",
       " array([1. , 1.3, 1.6, 1.9, 2.2, 2.5, 2.8, 3.1, 3.4, 3.7, 4. ]),\n",
       " <a list of 10 Patch objects>)"
      ]
     },
     "execution_count": 74,
     "metadata": {},
     "output_type": "execute_result"
    },
    {
     "data": {
      "image/png": "[encoded data removed]",
      "text/plain": [
       "<Figure size 432x288 with 1 Axes>"
      ]
     },
     "metadata": {
      "needs_background": "light"
     },
     "output_type": "display_data"
    }
   ],
   "source": [
    "plt.hist(preds)"
   ]
  },
  {
   "cell_type": "markdown",
   "metadata": {},
   "source": [
    "## Well, unfortunately I don't have more time to do this but I did learn a lot"
   ]
  },
  {
   "cell_type": "markdown",
   "metadata": {},
   "source": [
    "Overall I learned how to do grid search cv and that was something I've been wanting to mess with and learn. Furthermore, selection was limited by time, as submissions were definitely not my friend on this assignment as they were much more tricky through the terminal. \n",
    "Usefulness- Honestly, this model is not very useful. I need to correct for the fact that our data is so skewed towards predicting 4, where it needs to think that every possibility is likely. Looking at the scores the mdoel got in the end, I think they scored based on having a fairly even distribution on the test set, an interesting mentatlity for scoring. Unfortunately this makes it difficult to fit a model as the model should be more liekly to predict the outcome that is more likely, a 4, but the test set is not designed as such."
   ]
  },
  {
   "cell_type": "code",
   "execution_count": null,
   "metadata": {},
   "outputs": [],
   "source": []
  }
 ],
 "metadata": {
  "kernelspec": {
   "display_name": "Python 3",
   "language": "python",
   "name": "python3"
  },
  "language_info": {
   "codemirror_mode": {
    "name": "ipython",
    "version": 3
   },
   "file_extension": ".py",
   "mimetype": "text/x-python",
   "name": "python",
   "nbconvert_exporter": "python",
   "pygments_lexer": "ipython3",
   "version": "3.7.1"
  }
 },
 "nbformat": 4,
 "nbformat_minor": 2
}
